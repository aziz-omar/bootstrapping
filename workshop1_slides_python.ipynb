{
 "cells": [
  {
   "cell_type": "markdown",
   "metadata": {
    "slideshow": {
     "slide_type": "slide"
    }
   },
   "source": [
    "\n",
    "# Bootstrapping in Python\n",
    "\n",
    "### Justin Sulik\n",
    "\n",
    "### [https://github.com/justinsulik/bootstrapping](github.com/justinsulik/bootstrapping)\n",
    "\n",
    "### [justinsulik.com](justinsulik.com)\n",
    "\n",
    "### @justinsulik\n"
   ]
  },
  {
   "cell_type": "markdown",
   "metadata": {
    "slideshow": {
     "slide_type": "slide"
    }
   },
   "source": [
    "# Bootstrapping\n",
    "\n",
    "- To pull yourself up by your own bootstraps\n",
    "- Sounds like it's getting something from nothing\n",
    "- But it's a robust, easy, modern, elegant approach to stats\n",
    "\n",
    "<img src=\"munchausen.jpg\" style='float: right; height: 400px;'>"
   ]
  },
  {
   "cell_type": "markdown",
   "metadata": {
    "slideshow": {
     "slide_type": "slide"
    }
   },
   "source": [
    "# Two slogans\n",
    "\n",
    "- \"Simulate and see!\"\n",
    "- \"Make the computer do all the work!\""
   ]
  },
  {
   "cell_type": "markdown",
   "metadata": {
    "slideshow": {
     "slide_type": "slide"
    }
   },
   "source": [
    "# Outline\n",
    "\n",
    "## Workshop 1\n",
    "- Calculation vs simulation\n",
    "- Bootstrap resampling\n",
    "- Means and confidence intervals\n",
    "- Difference in means\n",
    "- DIY\n",
    "\n",
    "## Workshop 2\n",
    "- Regression parameters\n",
    "- Other statistics\n",
    "- Why care about confidence intervals? \"The new statistics\"\n",
    "- Parametric vs. non-parametric bootstrap\n",
    "- Bootstrap vs. random permutation test\n",
    "- DIY"
   ]
  },
  {
   "cell_type": "markdown",
   "metadata": {},
   "source": [
    "# Today's learning objectives\n",
    "\n",
    "To understand:\n",
    "\n",
    "- the difference between simulating and calculating\n",
    "\n",
    "- how to do resampling with replacement\n",
    "\n",
    "- why bootstrapping is robust and general\n",
    "\n",
    "- how to bootstrap a confidence interval around a sample mean\n",
    "\n",
    "- how to bootstrap a CI for the difference between two means\n",
    "\n",
    "To think about:\n",
    "\n",
    "- what CIs are\n",
    "\n",
    "- why bootstrapping works"
   ]
  },
  {
   "cell_type": "markdown",
   "metadata": {
    "slideshow": {
     "slide_type": "slide"
    }
   },
   "source": [
    "# Calculation vs Simulation\n",
    "\n",
    "- Bootstrapping is one example of a broad approach to stats: resampling\n",
    "    - Others include permutation tests, Monte Carlo methods, cross-validation, jackknife...\n",
    "- These approaches involve simulating rather than calculating\n",
    "- Think of this as *statistics without formulas*"
   ]
  },
  {
   "cell_type": "markdown",
   "metadata": {
    "slideshow": {
     "slide_type": "slide"
    }
   },
   "source": [
    "# Calculation vs Simulation\n",
    "\n",
    "- You toss a coin 30 times \n",
    "- There are 22 heads\n",
    "- That seems higher than expected\n",
    "- How likely is it that a random coin toss results in at least 22 heads?"
   ]
  },
  {
   "cell_type": "markdown",
   "metadata": {
    "slideshow": {
     "slide_type": "slide"
    }
   },
   "source": [
    "# Calculation\n",
    "\n",
    "You need to know this formula:\n",
    "\n",
    "$\\binom{N}{N_H}(\\frac{1}{2})^{N_H}(\\frac{1}{2})^{N_T}$\n",
    "\n",
    "N = tosses, $N_H$ = number of heads, $N_T$ = number of tails"
   ]
  },
  {
   "cell_type": "code",
   "execution_count": 3,
   "metadata": {
    "slideshow": {
     "slide_type": "subslide"
    }
   },
   "outputs": [
    {
     "data": {
      "text/plain": [
       "0.0081"
      ]
     },
     "execution_count": 3,
     "metadata": {},
     "output_type": "execute_result"
    }
   ],
   "source": [
    "import numpy as np, random, pandas as pd, matplotlib.pyplot as plt, seaborn as sns\n",
    "from scipy import misc\n",
    "%matplotlib inline\n",
    "\n",
    "p = 0\n",
    "for i in range(22, 31):\n",
    "    comb = misc.comb(30,i)\n",
    "    p+=comb*0.5**i*0.5**(30-i)\n",
    "    \n",
    "round(float(p), 4)"
   ]
  },
  {
   "cell_type": "markdown",
   "metadata": {
    "slideshow": {
     "slide_type": "slide"
    }
   },
   "source": [
    "# Simulating\n",
    "\n",
    "**(Not bootstrapping, yet)**\n",
    "\n",
    "Instead of knowing/remembering/looking up the formula, just simulate and see!\n",
    "\n",
    "Simulate tossing a fair dice lots of times (say, 10 000)\n",
    "\n",
    "See on how many of those simulations there were more than 22 heads"
   ]
  },
  {
   "cell_type": "code",
   "execution_count": 399,
   "metadata": {
    "slideshow": {
     "slide_type": "subslide"
    }
   },
   "outputs": [
    {
     "data": {
      "text/plain": [
       "0.0084"
      ]
     },
     "execution_count": 399,
     "metadata": {},
     "output_type": "execute_result"
    }
   ],
   "source": [
    "\n",
    "R = 10000\n",
    "M = 0\n",
    "for _ in range(R):\n",
    "    tosses = [random.randrange(0,2) for x in range(30)]\n",
    "    if sum(tosses)>=22:\n",
    "        M+=1\n",
    "\n",
    "p = M/R\n",
    "p"
   ]
  },
  {
   "cell_type": "markdown",
   "metadata": {
    "slideshow": {
     "slide_type": "slide"
    }
   },
   "source": [
    "# Pros and Cons\n",
    "\n",
    "Calculating\n",
    "- Exact\n",
    "- Same results every time\n",
    "- Burden is on your knowledge\n",
    "    \n",
    "Simulating\n",
    "- Inexact\n",
    "- Results vary\n",
    "- Burden is on your computer"
   ]
  },
  {
   "cell_type": "markdown",
   "metadata": {
    "slideshow": {
     "slide_type": "slide"
    }
   },
   "source": [
    "# You try it\n",
    "\n",
    "What if the question changed:\n",
    "- If you had two coins?\n",
    "- If you had dice?\n",
    "\n",
    "Easier to recall/find/derive the formula? Or update your simulation?\n",
    "\n",
    "Simulate/calculate the probability that *at least* 1 coin will show 20 heads if you have 2 coins and toss them 30 times each\n",
    "\n",
    "Simulate/calculate the probability that 2 dice will add to 5 or more"
   ]
  },
  {
   "cell_type": "code",
   "execution_count": 81,
   "metadata": {
    "slideshow": {
     "slide_type": "subslide"
    }
   },
   "outputs": [
    {
     "data": {
      "text/plain": [
       "0.0968"
      ]
     },
     "execution_count": 81,
     "metadata": {},
     "output_type": "execute_result"
    }
   ],
   "source": [
    "R = 10000\n",
    "M = 0\n",
    "for _ in range(R):\n",
    "    coin1 = [random.randrange(0,2) for x in range(30)] \n",
    "    coin2 = [random.randrange(0,2) for x in range(30)]\n",
    "    if sum(coin1)>=20 or sum(coin2)>=20:\n",
    "        M+=1\n",
    "p = M/R\n",
    "p"
   ]
  },
  {
   "cell_type": "code",
   "execution_count": 82,
   "metadata": {
    "slideshow": {
     "slide_type": "subslide"
    }
   },
   "outputs": [
    {
     "data": {
      "text/plain": [
       "0.8326"
      ]
     },
     "execution_count": 82,
     "metadata": {},
     "output_type": "execute_result"
    }
   ],
   "source": [
    "R = 10000\n",
    "M = 0\n",
    "for _ in range(R):\n",
    "    dice1 = random.randrange(1,7)\n",
    "    dice2 = random.randrange(1,7)\n",
    "    if dice1 + dice2 >= 5:\n",
    "        M+=1\n",
    "        \n",
    "p = M/R\n",
    "p"
   ]
  },
  {
   "cell_type": "markdown",
   "metadata": {
    "slideshow": {
     "slide_type": "slide"
    }
   },
   "source": [
    "# Are we all on board?\n",
    "\n",
    "Do you get the difference between simulating and calculating?\n",
    "\n",
    "Do you feel comfortable with this approach?\n",
    "\n",
    "Ok, let's move on to bootstrapping"
   ]
  },
  {
   "cell_type": "markdown",
   "metadata": {
    "slideshow": {
     "slide_type": "slide"
    }
   },
   "source": [
    "# What stats do we report when we do an experiment?\n",
    "\n",
    "In addition to a sample statistic (mean, proportion, r, $\\beta$) we need to give some measure of accuracy (variability, uncertainty or how the data are distributed)\n",
    "\n",
    "- sd\n",
    "- se\n",
    "- CI\n",
    "\n",
    "M=23.3, 95% CI [17.2, 43.7]\n",
    "\n",
    "To do this, we can\n",
    "- Use formulae (calculate), or\n",
    "- Bootstrap (simulate)"
   ]
  },
  {
   "cell_type": "markdown",
   "metadata": {
    "slideshow": {
     "slide_type": "slide"
    }
   },
   "source": [
    "# The old-fashioned way\n",
    "\n",
    "Calculate 95% CI\n",
    "\n",
    "estimator $\\pm$ (reliability coefficient) * (standard error)\n",
    "\n",
    "$\\overline{x}\\pm 1.96*SE$\n",
    "\n",
    "= $\\overline{x}\\pm 1.96*\\frac{sd}{\\sqrt{n}}$\n",
    "\n",
    "Do you know if that's a z- or a t-score? When to use one rather than the other?\n",
    "\n",
    "Do you know what the assumptions have to be met for this formula to hold?"
   ]
  },
  {
   "cell_type": "code",
   "execution_count": 66,
   "metadata": {
    "slideshow": {
     "slide_type": "subslide"
    }
   },
   "outputs": [
    {
     "name": "stdout",
     "output_type": "stream",
     "text": [
      "M=10.4 95% CI [9.28, 11.53]\n",
      "M=10.7 95% CI [8.87, 12.53]\n"
     ]
    }
   ],
   "source": [
    "\n",
    "data1 = np.random.normal(10, 4, 50)\n",
    "mean = np.mean(data1)\n",
    "sd = np.std(data1)\n",
    "interval = 1.96*(sd/len(data1)**0.5)\n",
    "print(\"M={} 95% CI [{}, {}]\".format(round(mean,2), round(mean-interval, 2), round(mean+interval,2)))\n",
    "\n",
    "data2 = np.random.normal(10, 4, 20)\n",
    "mean = np.mean(data2)\n",
    "sd = np.std(data2)\n",
    "interval = 2.093*sd/len(data2)**0.5 #Use 2.093 because this is a t-statistic because N < 30\n",
    "print(\"M={} 95% CI [{}, {}]\".format(round(mean,2), round(mean-interval, 2), round(mean+interval,2)))\n"
   ]
  },
  {
   "cell_type": "markdown",
   "metadata": {
    "slideshow": {
     "slide_type": "slide"
    }
   },
   "source": [
    "# Bootstrapping\n",
    "\n",
    "Bootstrapping uses resampling **with replacement** to interrogate your data (\"empirical sample\")\n",
    "\n",
    "For each bootstrap sample, draw N items from your data, with replacement\n",
    "\n",
    "data = [1, 2, 3, 4, 5]\n",
    "\n",
    "sample$^*_1$ = [2, 4, 5, 1, 2]\n",
    "\n",
    "sample$^*_2$ = [4, 3, 4, 2, 5]\n",
    "\n",
    "...\n",
    "\n",
    "([see animation here](https://www.stat.auckland.ac.nz/~wild/BootAnim/movies/bootstrap1.mp4))"
   ]
  },
  {
   "cell_type": "markdown",
   "metadata": {
    "slideshow": {
     "slide_type": "subslide"
    }
   },
   "source": [
    "# Bootstrapping\n",
    "\n",
    "Each time, just take the statistic you're interested in\n",
    "\n",
    "data = [1, 2, 3, 4, 5]          mean = 3\n",
    "\n",
    "sample$^*_1$ = [2, 4, 5, 1, 2]  mean = 2.79\n",
    "\n",
    "sample$^*_2$ = [4, 3, 4, 2, 5]  mean = 3.6\n",
    "\n",
    "..."
   ]
  },
  {
   "cell_type": "markdown",
   "metadata": {
    "slideshow": {
     "slide_type": "subslide"
    }
   },
   "source": [
    "# Bootstrapping\n",
    "\n",
    "Repeat lots of times (e.g. 10 000)\n",
    "\n",
    "Just treat the set of bootstrap samples as informative about the distribution of the statistic you're interested in\n",
    "\n",
    "(I.e., just make inferences from the resampled data)\n",
    "\n",
    "First, let's check that it works\n",
    "\n",
    "Then, we'll discuss *why* it works"
   ]
  },
  {
   "cell_type": "code",
   "execution_count": 354,
   "metadata": {
    "slideshow": {
     "slide_type": "subslide"
    }
   },
   "outputs": [
    {
     "name": "stdout",
     "output_type": "stream",
     "text": [
      "M=10.4 95% CI [9.27, 11.53]\n"
     ]
    }
   ],
   "source": [
    "bootSamples = []\n",
    "for _ in range(10000):\n",
    "    bootstrapSample = np.random.choice(data1, len(data1))\n",
    "    bootstrapMean = np.mean(bootstrapSample)\n",
    "    bootSamples.append(bootstrapMean)\n",
    "\n",
    "mean = np.mean(data1)\n",
    "deltaStar = [x-mean for x in bootSamples]\n",
    "lower = mean+np.percentile(deltaStar, 2.5) #We'll learn to do something more sophisticated than this later!\n",
    "upper = mean+np.percentile(deltaStar, 97.5)\n",
    "print(\"M={} 95% CI [{}, {}]\".format(round(mean, 2), round(lower,2), round(upper, 2)))"
   ]
  },
  {
   "cell_type": "code",
   "execution_count": 377,
   "metadata": {
    "slideshow": {
     "slide_type": "subslide"
    }
   },
   "outputs": [
    {
     "name": "stdout",
     "output_type": "stream",
     "text": [
      "M=10.7 95% CI [9.03, 12.42]\n"
     ]
    }
   ],
   "source": [
    "bootSamples = []\n",
    "for _ in range(10000):\n",
    "    bootstrapSample = np.random.choice(data2, len(data2))\n",
    "    bootstrapMean = np.mean(bootstrapSample)\n",
    "    bootSamples.append(bootstrapMean)\n",
    "\n",
    "mean = np.mean(data2)\n",
    "deltaStar = [x-mean for x in bootSamples]\n",
    "lower = mean+np.percentile(deltaStar, 2.5) #We'll learn to do something more sophisticated than this later!\n",
    "upper = mean+np.percentile(deltaStar, 97.5)\n",
    "print(\"M={} 95% CI [{}, {}]\".format(round(mean, 2), round(lower,2), round(upper, 2)))"
   ]
  },
  {
   "cell_type": "markdown",
   "metadata": {
    "slideshow": {
     "slide_type": "slide"
    }
   },
   "source": [
    "# Ok, it works. Why?\n",
    "\n"
   ]
  },
  {
   "cell_type": "markdown",
   "metadata": {
    "slideshow": {
     "slide_type": "slide"
    }
   },
   "source": [
    "# Practical\n",
    "For the formula, we treat the sample as representative\n",
    "\n",
    "So for the bootstrap we treat it as representative\n",
    "\n",
    "The sample is all we have. Let's use it!\n",
    "\n",
    "The claim is not that we're learning something new about **the population**\n",
    "\n",
    "We're learning something about **the sampling distribution**"
   ]
  },
  {
   "cell_type": "markdown",
   "metadata": {
    "slideshow": {
     "slide_type": "slide"
    }
   },
   "source": [
    "# A bit more formal\n",
    "\n",
    "empirical sample $\\leftrightarrow$ population F ~ resampled data F\\* $\\leftrightarrow$ empirical sample\n",
    " \n",
    "For statistic $u$ calculated from the empirical sample, and $u^*$ from F*,\n",
    "\n",
    "IF the sample is representative of population \n",
    " \n",
    "THEN the variation in $u$ is well approximated by the variation in $u^*$"
   ]
  },
  {
   "cell_type": "markdown",
   "metadata": {
    "slideshow": {
     "slide_type": "slide"
    }
   },
   "source": [
    "# A few more points\n",
    "\n",
    "Since we resample with replacement, F\\* won't have same properties as the original\n",
    "\n",
    "We're **not** learning anything more about the point estimate, or about the population. \n",
    "\n",
    "We're learning more about the **distribution** of the statistic\n",
    "\n",
    "We used percentiles to derive confidence intervals directly from F\\* above. We'll learn fancier ways to derive CIs next week. "
   ]
  },
  {
   "cell_type": "markdown",
   "metadata": {
    "slideshow": {
     "slide_type": "slide"
    }
   },
   "source": [
    "# You try it\n",
    "\n",
    "Generate some random normal samples OR find some of your own data\n",
    "\n",
    "Use the formula and bootstrapping to see how closely CIs for the means\n",
    "\n",
    "If they're different, why do you think that is?\n",
    "\n",
    "Convince yourself it works before we look in more detail at the logic behind the bootstrap"
   ]
  },
  {
   "cell_type": "markdown",
   "metadata": {
    "slideshow": {
     "slide_type": "slide"
    }
   },
   "source": [
    "# Let's check the bigger picture\n",
    "\n",
    "#### Tricky to get your head around it? Best thing to do is simulate some more!\n",
    "\n",
    "Assume a large population F (say 5 million people)\n",
    "\n",
    "An experimenter might just take one sample from F (time! money!)\n",
    "\n",
    "Let's take a bunch of samples from F (like several experimenters replicating an experiment)\n",
    "\n",
    "See what we're learning about: point estimates (No!) vs confidence (Yes!)"
   ]
  },
  {
   "cell_type": "code",
   "execution_count": 169,
   "metadata": {
    "slideshow": {
     "slide_type": "subslide"
    }
   },
   "outputs": [
    {
     "data": {
      "text/plain": [
       "<matplotlib.axes._subplots.AxesSubplot at 0x1284130b8>"
      ]
     },
     "execution_count": 169,
     "metadata": {},
     "output_type": "execute_result"
    },
    {
     "data": {
      "image/png": "[encoded data removed]",
      "text/plain": [
       "<matplotlib.figure.Figure at 0x126c16400>"
      ]
     },
     "metadata": {},
     "output_type": "display_data"
    }
   ],
   "source": [
    "\n",
    "population = np.random.normal(0,2,5000000)\n",
    "\n",
    "sns.kdeplot(population)"
   ]
  },
  {
   "cell_type": "code",
   "execution_count": 159,
   "metadata": {
    "slideshow": {
     "slide_type": "subslide"
    }
   },
   "outputs": [
    {
     "data": {
      "text/plain": [
       "sample1    Axes(0.125,0.125;0.775x0.755)\n",
       "sample2    Axes(0.125,0.125;0.775x0.755)\n",
       "sample3    Axes(0.125,0.125;0.775x0.755)\n",
       "sample4    Axes(0.125,0.125;0.775x0.755)\n",
       "dtype: object"
      ]
     },
     "execution_count": 159,
     "metadata": {},
     "output_type": "execute_result"
    },
    {
     "data": {
      "image/png": "[encoded data removed]",
      "text/plain": [
       "<matplotlib.figure.Figure at 0x127ff39b0>"
      ]
     },
     "metadata": {},
     "output_type": "display_data"
    }
   ],
   "source": [
    "import pandas as pd\n",
    "\n",
    "# Imagine 4 independent experimenters sampled from the same population\n",
    "\n",
    "sample1 = np.random.choice(population, 100)\n",
    "sample2 = np.random.choice(population, 100)\n",
    "sample3 = np.random.choice(population, 100)\n",
    "sample4 = np.random.choice(population, 100)\n",
    "\n",
    "df = pd.DataFrame.from_dict({'sample1': sample1, 'sample2': sample2, 'sample3': sample3, 'sample4': sample4})\n",
    "\n",
    "df.apply(sns.kdeplot)"
   ]
  },
  {
   "cell_type": "code",
   "execution_count": 170,
   "metadata": {
    "slideshow": {
     "slide_type": "subslide"
    }
   },
   "outputs": [
    {
     "data": {
      "text/plain": [
       "sample1    Axes(0.125,0.125;0.775x0.755)\n",
       "sample2    Axes(0.125,0.125;0.775x0.755)\n",
       "sample3    Axes(0.125,0.125;0.775x0.755)\n",
       "sample4    Axes(0.125,0.125;0.775x0.755)\n",
       "dtype: object"
      ]
     },
     "execution_count": 170,
     "metadata": {},
     "output_type": "execute_result"
    },
    {
     "data": {
      "image/png": "[encoded data removed]",
      "text/plain": [
       "<matplotlib.figure.Figure at 0x1287aef28>"
      ]
     },
     "metadata": {},
     "output_type": "display_data"
    }
   ],
   "source": [
    "\n",
    "# Bootstrap each experimenter's data/empirical sample\n",
    "\n",
    "def myBoot(column):\n",
    "    bootMeans = [np.mean(np.random.choice(column, len(column))) for x in range(10000)]\n",
    "    return bootMeans\n",
    "    \n",
    "bootDf = df.apply(myBoot)\n",
    "\n",
    "bootDf.apply(sns.kdeplot)"
   ]
  },
  {
   "cell_type": "code",
   "execution_count": 171,
   "metadata": {
    "slideshow": {
     "slide_type": "subslide"
    }
   },
   "outputs": [
    {
     "name": "stdout",
     "output_type": "stream",
     "text": [
      "sample1    0.247946\n",
      "sample2   -0.005468\n",
      "sample3   -0.048225\n",
      "sample4    0.077600\n",
      "dtype: float64\n",
      "sample1    0.250180\n",
      "sample2   -0.002179\n",
      "sample3   -0.048552\n",
      "sample4    0.077337\n",
      "dtype: float64\n"
     ]
    }
   ],
   "source": [
    "# Compare empirical means with bootstrapped means\n",
    "\n",
    "print(df.apply(np.mean))\n",
    "print(bootDf.apply(np.mean))\n",
    "\n",
    "# The same! So we're not learning anything about the point estimates or the population mean!"
   ]
  },
  {
   "cell_type": "code",
   "execution_count": 356,
   "metadata": {
    "slideshow": {
     "slide_type": "subslide"
    }
   },
   "outputs": [
    {
     "data": {
      "text/plain": [
       "sample1    [-0.158141335163, 0.656312781122]\n",
       "sample2    [-0.364146685813, 0.356611058886]\n",
       "sample3    [-0.418268047996, 0.333888423411]\n",
       "sample4    [-0.274893451042, 0.433482606802]\n",
       "dtype: object"
      ]
     },
     "execution_count": 356,
     "metadata": {},
     "output_type": "execute_result"
    }
   ],
   "source": [
    "def getCIs(column):\n",
    "    CI = np.percentile(column,[2.5,97.5])\n",
    "    return(CI)\n",
    "\n",
    "bootDf.apply(getCIs)\n",
    "\n",
    "#So the bootstrapped CIs *usually* contain the population mean"
   ]
  },
  {
   "cell_type": "code",
   "execution_count": 357,
   "metadata": {
    "slideshow": {
     "slide_type": "subslide"
    }
   },
   "outputs": [
    {
     "data": {
      "text/plain": [
       "sample1    True\n",
       "sample2    True\n",
       "sample3    True\n",
       "sample4    True\n",
       "dtype: bool"
      ]
     },
     "execution_count": 357,
     "metadata": {},
     "output_type": "execute_result"
    }
   ],
   "source": [
    "#Let's quantify *usually*\n",
    "\n",
    "# Return True if population mean (i.e. 0) is in the bootstrapped CI\n",
    "def popMeanInRange(column):\n",
    "    CI = np.percentile(column,[2.5,97.5])\n",
    "    return True if CI[0] <= 0 <= CI[1] else False\n",
    "\n",
    "bootDf.apply(popMeanInRange)"
   ]
  },
  {
   "cell_type": "code",
   "execution_count": 164,
   "metadata": {
    "slideshow": {
     "slide_type": "subslide"
    }
   },
   "outputs": [
    {
     "data": {
      "text/plain": [
       "94"
      ]
     },
     "execution_count": 164,
     "metadata": {},
     "output_type": "execute_result"
    }
   ],
   "source": [
    "# What if we had 100 samples from the population, instead of 4?\n",
    "\n",
    "df100 = pd.DataFrame.from_dict({x: np.random.choice(population, 100) for x in range(100)})\n",
    "bootDf = df100.apply(myBoot)\n",
    "bootDf.apply(popMeanInRange).sum()"
   ]
  },
  {
   "cell_type": "markdown",
   "metadata": {
    "slideshow": {
     "slide_type": "slide"
    }
   },
   "source": [
    "# What have we learned by getting bootstrapped CIs?\n",
    "\n",
    "We don't have access to the whole population (too big/expensive/time consuming)\n",
    "\n",
    "We have an empirical sample\n",
    "\n",
    "If we've done our job right, and sampled randomly, this should be representative of the population\n",
    "\n",
    "We can get a point estimate from the empirical sample\n",
    "\n",
    "This won't be the same as the population mean, but we hope it's not far off\n"
   ]
  },
  {
   "cell_type": "markdown",
   "metadata": {
    "slideshow": {
     "slide_type": "subslide"
    }
   },
   "source": [
    "# What have we learned by getting bootstrapped CIs?\n",
    "\n",
    "We can't hope to find out the true population mean\n",
    "\n",
    "What we want is a confidence interval for our sample statistic\n",
    "\n",
    "IF we had the time/money/wherewithal to do multiple experiments, repeatedly sampling from the population\n",
    "\n",
    "**THEN 95% of the time the population mean would fall within our bootstrap CIs**"
   ]
  },
  {
   "cell_type": "markdown",
   "metadata": {
    "slideshow": {
     "slide_type": "slide"
    }
   },
   "source": [
    "# Are we all on board?\n",
    "\n",
    "What is a CI?\n",
    "\n",
    "What kind of resampling is involved in bootstrapping? Why?\n",
    "\n",
    "Does the bootstrap tell us anything about:\n",
    "- the true mean (or other statistic)\n",
    "- the sample mean (or other statistic)\n",
    "- the proportion of our data that lies within the CI?"
   ]
  },
  {
   "cell_type": "markdown",
   "metadata": {
    "slideshow": {
     "slide_type": "slide"
    }
   },
   "source": [
    "Ok, so bootstrapping works \n",
    "\n",
    "Why bother using it, instead of the traditional formulae?"
   ]
  },
  {
   "cell_type": "markdown",
   "metadata": {
    "slideshow": {
     "slide_type": "slide"
    }
   },
   "source": [
    "# Reasons to use a bootstrap\n",
    "\n",
    "*Reason 1*\n",
    "- The formulae usually make assumptions (normality, unbounded, ...)\n",
    "- Sometimes your data doesn't fit the assumptions\n",
    "- Bootstrapping works regardless\n",
    "\n",
    "*Reason 2*\n",
    "- Sometimes you don't know the formula\n",
    "- Or the formula is complicated\n",
    "- Or the formula doesn't exist\n",
    "- Bootstrapping works regardless"
   ]
  },
  {
   "cell_type": "markdown",
   "metadata": {
    "slideshow": {
     "slide_type": "slide"
    }
   },
   "source": [
    "# Reason 1 - Not meeting assumptions\n",
    "\n",
    "$\\overline{x}\\pm 1.96*\\frac{sd}{\\sqrt{n}}$\n",
    "\n",
    "What if your data is not normal, or is limited to a certain range?\n",
    "\n",
    "E.g. proportion correct out of N trials\n",
    "- binomial, not normal\n",
    "- bounded between 0 and 1\n",
    "\n",
    "E.g. count data (number of blinks per minute)\n",
    "- Poisson, not normal\n",
    "- Non-negative count\n",
    "\n",
    "E.g. reaction time data \n",
    "- Various ways to model\n",
    "- Positive continuous\n",
    "\n",
    "What if you're not **sure** your data is normal?\n",
    "\n",
    "We'll get into different distributions next week\n"
   ]
  },
  {
   "cell_type": "markdown",
   "metadata": {
    "slideshow": {
     "slide_type": "slide"
    }
   },
   "source": [
    "# Reason 2 - Formulae\n",
    "\n",
    "What if you need to get CIs for things other than means?\n",
    "\n",
    "What if the formula is very complicated (and people argue about it)?\n",
    "\n",
    "- see [here](https://stats.stackexchange.com/questions/122001/confidence-intervals-for-median) for medians\n",
    "\n",
    "What if there is no formula?\n",
    "\n",
    "- $r$, $r^2$\n",
    "\n",
    "Bootstrapping works regardless!"
   ]
  },
  {
   "cell_type": "code",
   "execution_count": 364,
   "metadata": {
    "slideshow": {
     "slide_type": "slide"
    }
   },
   "outputs": [
    {
     "data": {
      "text/plain": [
       "<matplotlib.axes._subplots.AxesSubplot at 0x12bf6d0b8>"
      ]
     },
     "execution_count": 364,
     "metadata": {},
     "output_type": "execute_result"
    },
    {
     "data": {
      "image/png": "[encoded data removed]",
      "text/plain": [
       "<matplotlib.figure.Figure at 0x12bd15550>"
      ]
     },
     "metadata": {},
     "output_type": "display_data"
    }
   ],
   "source": [
    "data = np.random.beta(1,9,20)\n",
    "\n",
    "sns.distplot(data)"
   ]
  },
  {
   "cell_type": "code",
   "execution_count": 375,
   "metadata": {
    "slideshow": {
     "slide_type": "subslide"
    }
   },
   "outputs": [
    {
     "name": "stdout",
     "output_type": "stream",
     "text": [
      "[-0.0281023   0.03149967]\n",
      "M=0.08 95% CI [0.06, 0.12]\n"
     ]
    }
   ],
   "source": [
    "bootSamples = [np.mean(np.random.choice(data,len(data))) for _ in range(10000)]\n",
    "\n",
    "M = np.mean(data)\n",
    "deltaStar = [x-M for x in bootSamples]\n",
    "intervals = np.percentile(deltaStar, [2.5,97.5])\n",
    "print(intervals)\n",
    "print(\"M={} 95% CI [{}, {}]\".format(round(M, 2), round(M+intervals[0],2), round(M+intervals[1], 2)))"
   ]
  },
  {
   "cell_type": "markdown",
   "metadata": {
    "slideshow": {
     "slide_type": "subslide"
    }
   },
   "source": [
    "Notice that the CI is not symmetric about the mean\n",
    "\n",
    "That's because bootstrapping tells us about the data distribution\n",
    "\n",
    "Whereas the formula uses $\\pm$"
   ]
  },
  {
   "cell_type": "markdown",
   "metadata": {
    "slideshow": {
     "slide_type": "slide"
    }
   },
   "source": [
    "# Last bit: difference in means\n",
    "\n",
    "Case 1:\n",
    "Two samples drawn from the same distribution\n",
    "\n",
    "Case 2:\n",
    "Two samples drawn from different distributions\n",
    "\n",
    "Can we use the bootstrap to contrast these cases?"
   ]
  },
  {
   "cell_type": "code",
   "execution_count": 5,
   "metadata": {
    "slideshow": {
     "slide_type": "subslide"
    }
   },
   "outputs": [
    {
     "name": "stdout",
     "output_type": "stream",
     "text": [
      "0.172618278676 -0.995486630951 1.3558313831\n",
      "-2.07054596498 -3.2741327279 -0.824599847594\n"
     ]
    }
   ],
   "source": [
    "group1 = np.random.normal(6,3,35)\n",
    "group2 = np.random.normal(6,3,40) #Doesn't have to be same size!\n",
    "group3 = np.random.normal(9,3,30) #Doesn't have to be same size!\n",
    "\n",
    "def compareMeans(groupA,groupB):\n",
    "    groupAStar = np.random.choice(groupA,len(groupA))\n",
    "    groupBStar = np.random.choice(groupB,len(groupB))\n",
    "    diff = np.mean(groupAStar)-np.mean(groupBStar)\n",
    "    return(diff)\n",
    "\n",
    "#compare group1,group2 (same distribution)\n",
    "diff1_2 = np.mean(group1)-np.mean(group2)\n",
    "bootSample = [compareMeans(group1,group2) for x in range(10000)]\n",
    "deltaStar = [x-diff1_2 for x in bootSample]\n",
    "lower,upper = np.percentile(deltaStar,[2.5, 97.5])\n",
    "print(diff1_2, diff1_2+lower, diff1_2+upper)\n",
    "\n",
    "#compare group1,group3 (different distribution)\n",
    "diff1_3 = np.mean(group1)-np.mean(group3)\n",
    "bootSample = [compareMeans(group1,group3) for x in range(10000)]\n",
    "deltaStar = [x-diff1_3 for x in bootSample]\n",
    "lower,upper = np.percentile(deltaStar,[2.5, 97.5])\n",
    "print(diff1_3, diff1_3+lower, diff1_3+upper)"
   ]
  },
  {
   "cell_type": "markdown",
   "metadata": {
    "slideshow": {
     "slide_type": "slide"
    }
   },
   "source": [
    "# Final Task\n",
    "\n",
    "You try it!\n",
    "\n",
    "Either simulate some date, or use some of your own\n",
    "\n",
    "Go for between-subjects data\n",
    "\n",
    "Try plot the distributions\n",
    "\n",
    "Calculate CIs for the difference in means"
   ]
  },
  {
   "cell_type": "markdown",
   "metadata": {
    "slideshow": {
     "slide_type": "slide"
    }
   },
   "source": [
    "# Conclusions\n",
    "\n",
    "The bootstrap is **robust**\n",
    "- Why?\n",
    "\n",
    "The bootstrap is **general**\n",
    "- Why?\n",
    "\n",
    "The bootstrap is **simple**\n",
    "- Why?\n",
    "\n",
    "The bootstrap is **modern**\n",
    "- Why?\n"
   ]
  },
  {
   "cell_type": "markdown",
   "metadata": {
    "collapsed": true,
    "slideshow": {
     "slide_type": "slide"
    }
   },
   "source": [
    "# Next week\n",
    "\n",
    "- Using the `boot` package (R) to handle all the resampling and confidence intervals for us\n",
    "- Regression parameters\n",
    "- Other statistics\n",
    "- Why care about confidence intervals? \"The new statistics\"\n",
    "- Parametric vs. non-parametric bootstrap\n",
    "- Bootstrap vs. random permutation test\n",
    "- DIY"
   ]
  },
  {
   "cell_type": "code",
   "execution_count": null,
   "metadata": {
    "collapsed": true
   },
   "outputs": [],
   "source": []
  }
 ],
 "metadata": {
  "celltoolbar": "Slideshow",
  "kernelspec": {
   "display_name": "Python 3",
   "language": "python",
   "name": "python3"
  },
  "language_info": {
   "codemirror_mode": {
    "name": "ipython",
    "version": 3
   },
   "file_extension": ".py",
   "mimetype": "text/x-python",
   "name": "python",
   "nbconvert_exporter": "python",
   "pygments_lexer": "ipython3",
   "version": "3.6.1"
  }
 },
 "nbformat": 4,
 "nbformat_minor": 2
}

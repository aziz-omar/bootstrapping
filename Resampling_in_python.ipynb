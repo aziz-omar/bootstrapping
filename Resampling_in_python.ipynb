{
 "cells": [
  {
   "cell_type": "markdown",
   "metadata": {},
   "source": [
    "# Basic tools for resampling\n",
    "\n",
    "These are a few basic scripts for generating some random data and then resampling it. This is just to familiarize you with the syntax for generating random data sets, and randomly resampling from the data. It doesn't explain *why* we're doing those things - that's what the workshop is for. \n",
    "\n",
    "To install new python packages, I strongly recommend using `pip` (for Mac users. Windows users can use `setuptools` but I can't help you there). `Pip` is probably already installed (and you use it from the command line/terminal): \n",
    "\n",
    "`> pip install packageName`\n",
    "\n",
    "If it's not installed, see [here](https://pip.pypa.io/en/stable/installing/) for info. \n",
    "\n",
    "This file is a Jupyter/ipython notebook (`.ipnb`). It allows for python scripts to be interspersed with text, like these instructions. To install Jupyter, run \n",
    "\n",
    "`> pip install jupyter` \n",
    "\n",
    "To launch the notebook viewer to you can use it interactively (instead of viewing it like an html file), run the following from the folder where you've downloaded the workshop materials. \n",
    "\n",
    "`> jupyter notebook`\n",
    "\n",
    "Simply use the menu bar in the Jupyter viewer window to open the file. \n",
    "\n",
    "### Import packages"
   ]
  },
  {
   "cell_type": "code",
   "execution_count": 2,
   "metadata": {
    "collapsed": true
   },
   "outputs": [],
   "source": [
    "import random, numpy as np, pandas as pd\n",
    "%matplotlib inline"
   ]
  },
  {
   "cell_type": "markdown",
   "metadata": {},
   "source": [
    "### Generate random data\n",
    "\n",
    "`np.random.normal(mean,sd,N)` draws N samples from the normal distribution with given mean and standard deviation. We will also be using other distributions, such as `np.random.beta` or `np.random.poisson`. "
   ]
  },
  {
   "cell_type": "code",
   "execution_count": 13,
   "metadata": {},
   "outputs": [
    {
     "name": "stdout",
     "output_type": "stream",
     "text": [
      "distribution1 mean: 2.77417176661678, sd: 1.8215701606646382\n",
      "distribution2 mean: 2.518310777106641, sd: 1.4594789959500907\n",
      "distribution3 mean: 4.057209565744219, sd: 2.8029870408528046\n"
     ]
    }
   ],
   "source": [
    "distribution1 = np.random.normal(3, 2, 20)\n",
    "print('distribution1 mean: {}, sd: {}'.format(np.mean(distribution1), np.std(distribution1)))\n",
    "\n",
    "distribution2 = np.random.normal(3, 2, 20)\n",
    "print('distribution2 mean: {}, sd: {}'.format(np.mean(distribution2), np.std(distribution2)))\n",
    "\n",
    "distribution3 = np.random.normal(4, 3, 20)\n",
    "print('distribution3 mean: {}, sd: {}'.format(np.mean(distribution3), np.std(distribution3)))"
   ]
  },
  {
   "cell_type": "markdown",
   "metadata": {},
   "source": [
    "We want to learn more about these distributions. Since we created them, we know that `distribution1` and `distribution2` are sampled from the same distribution, and that `distribution3` isn't. Rerun the above code a few times to see how they change (place the cursor in the script window and hit shift+enter, or press the play button in the menu bar). It's quite possible that, occasionally, the mean for `distribution3` will be lower than one of the others. \n",
    "\n",
    "### Resampling \n",
    "\n",
    "To understand the distributions better, we resample repeatedly, with replacement. \n",
    "\n",
    "One resampling looks like the following, where `np.random.choice(list, N, replace=True)` resamples N times from array or other list-like object `list`. By default, `replace=True`, which is what we will need for bootstrapping. "
   ]
  },
  {
   "cell_type": "code",
   "execution_count": 14,
   "metadata": {},
   "outputs": [
    {
     "name": "stdout",
     "output_type": "stream",
     "text": [
      "newSample mean: 3.017086378560047, sd: 2.2217014218801423\n"
     ]
    }
   ],
   "source": [
    "newSample = np.random.choice(distribution1, len(distribution1))\n",
    "print('newSample mean: {}, sd: {}'.format(np.mean(newSample), np.std(newSample)))"
   ]
  },
  {
   "cell_type": "markdown",
   "metadata": {},
   "source": [
    "Note that the `newSample` mean and standard deviation are unlikely to be exactly the same as for `distribution1`. So instead of resampling once, let's resample lots of times (here, 10000)! Create an empty list `resampleMeans` to store these values. "
   ]
  },
  {
   "cell_type": "code",
   "execution_count": 15,
   "metadata": {},
   "outputs": [
    {
     "name": "stdout",
     "output_type": "stream",
     "text": [
      "resampleSampleMeans mean: 2.773800956140057, sd: 0.4047030144725058\n"
     ]
    }
   ],
   "source": [
    "resampleMeans = []\n",
    "for _ in range(10000):\n",
    "    newSample = np.random.choice(distribution1, len(distribution1))\n",
    "    newSampleMean = np.mean(newSample)\n",
    "    resampleMeans.append(newSampleMean)\n",
    "    \n",
    "print('resampleSampleMeans mean: {}, sd: {}'.format(np.mean(resampleMeans), np.std(resampleMeans)))"
   ]
  },
  {
   "cell_type": "markdown",
   "metadata": {},
   "source": [
    "The _ in the script above doesn't mean anything special. It's just common practice to indicate a variable that we don't actually care about - we don't need to do anything with that variable later, it's just for counting to 10000. We could just as well have written `for i in range(10000)` \n",
    "\n",
    "Note two things. First, the mean printed above is close to that of `distribution1` (if you reran the script for generating `distribution1`, you may need to rerun the above script). However, the standard deviation is far away. Wait for the workshop for an explanation! \n",
    "\n",
    "The above resampling script is written out fairly explicitly (for ease of reading). But to be able to do the same resampling for other data without having to manually replace the variable names each time, we create a custom function. The following all do the same thing, but the second uses a list comprehension (which are one of the most wonderful things in python - see [here](http://treyhunner.com/2015/12/python-list-comprehensions-now-in-color/))."
   ]
  },
  {
   "cell_type": "code",
   "execution_count": 16,
   "metadata": {},
   "outputs": [
    {
     "name": "stdout",
     "output_type": "stream",
     "text": [
      "2.76972039807\n",
      "2.77432205312\n"
     ]
    }
   ],
   "source": [
    "def resample1(data):\n",
    "    resampleMeans = []\n",
    "    for _ in range(10000):\n",
    "        resampleMeans.append(np.mean(np.random.choice(data, len(data))))\n",
    "    return resampleMeans\n",
    "\n",
    "def resample2(data):\n",
    "    resampleMeans = [np.mean(np.random.choice(data, len(data))) for _ in range(10000)]\n",
    "    return(resampleMeans)\n",
    "\n",
    "print(np.mean(resample1(distribution1)))\n",
    "print(np.mean(resample2(distribution1)))"
   ]
  },
  {
   "cell_type": "markdown",
   "metadata": {},
   "source": [
    "Becase we might be interested in things other than means, we can generalize this by using two functions, one for resampling and the other for extracting whatever variable we're interested in"
   ]
  },
  {
   "cell_type": "code",
   "execution_count": 17,
   "metadata": {},
   "outputs": [
    {
     "name": "stdout",
     "output_type": "stream",
     "text": [
      "2.76679566614\n",
      "2.51596394429\n",
      "4.05582908762\n"
     ]
    }
   ],
   "source": [
    "def resample(data):\n",
    "    bootData = [myFunction(np.random.choice(data, len(data))) for _ in range(10000)]\n",
    "    return(bootData)\n",
    "\n",
    "def myFunction(resampledData):\n",
    "    return(np.nanmean(resampledData))\n",
    "\n",
    "resampled1 = resample(distribution1)\n",
    "resampled2 = resample(distribution2)\n",
    "resampled3 = resample(distribution3)\n",
    "print(np.mean(resampled1))\n",
    "print(np.mean(resampled2))\n",
    "print(np.mean(resampled3))"
   ]
  },
  {
   "cell_type": "markdown",
   "metadata": {},
   "source": [
    "### Plotting\n",
    "\n",
    "Finally, let's plot the resampled data. "
   ]
  },
  {
   "cell_type": "code",
   "execution_count": 18,
   "metadata": {},
   "outputs": [
    {
     "data": {
      "text/plain": [
       "<matplotlib.axes._subplots.AxesSubplot at 0x1156112e8>"
      ]
     },
     "execution_count": 18,
     "metadata": {},
     "output_type": "execute_result"
    },
    {
     "data": {
      "image/png": "[encoded data removed]",
      "text/plain": [
       "<matplotlib.figure.Figure at 0x115681eb8>"
      ]
     },
     "metadata": {},
     "output_type": "display_data"
    }
   ],
   "source": [
    "df = pd.DataFrame({'dist1':resampled1,'dist3':resampled3})\n",
    "df.plot(kind='density')"
   ]
  },
  {
   "cell_type": "markdown",
   "metadata": {},
   "source": [
    "And the original data."
   ]
  },
  {
   "cell_type": "code",
   "execution_count": 19,
   "metadata": {},
   "outputs": [
    {
     "data": {
      "text/plain": [
       "<matplotlib.axes._subplots.AxesSubplot at 0x115814e10>"
      ]
     },
     "execution_count": 19,
     "metadata": {},
     "output_type": "execute_result"
    },
    {
     "data": {
      "image/png": "[encoded data removed]",
      "text/plain": [
       "<matplotlib.figure.Figure at 0x1153b5fd0>"
      ]
     },
     "metadata": {},
     "output_type": "display_data"
    }
   ],
   "source": [
    "df = pd.DataFrame({'dist1':distribution1, 'dist3':distribution3})\n",
    "df.plot(kind='density')"
   ]
  },
  {
   "cell_type": "code",
   "execution_count": null,
   "metadata": {
    "collapsed": true
   },
   "outputs": [],
   "source": []
  }
 ],
 "metadata": {
  "kernelspec": {
   "display_name": "Python 3",
   "language": "python",
   "name": "python3"
  },
  "language_info": {
   "codemirror_mode": {
    "name": "ipython",
    "version": 3
   },
   "file_extension": ".py",
   "mimetype": "text/x-python",
   "name": "python",
   "nbconvert_exporter": "python",
   "pygments_lexer": "ipython3",
   "version": "3.6.1"
  }
 },
 "nbformat": 4,
 "nbformat_minor": 2
}
